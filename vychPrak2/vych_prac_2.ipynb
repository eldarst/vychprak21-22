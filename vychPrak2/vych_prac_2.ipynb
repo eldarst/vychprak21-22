{
 "cells": [
  {
   "cell_type": "code",
   "execution_count": 122,
   "metadata": {
    "collapsed": true,
    "pycharm": {
     "name": "#%%\n"
    }
   },
   "outputs": [],
   "source": [
    "import numpy as np\n",
    "from scipy.special import jacobi\n",
    "from scipy.integrate import quadrature\n",
    "import pandas as pd"
   ]
  },
  {
   "cell_type": "code",
   "execution_count": 123,
   "outputs": [],
   "source": [
    "\n",
    "a, b = -1, 1\n",
    "n = 7\n",
    "a1, a2, b1, b2 = -0.7, -1, 0.75, 1\n",
    "\n",
    "\n",
    "def p(x):\n",
    "    return 1 / (2 + x / 3)\n",
    "\n",
    "\n",
    "def q(x):\n",
    "    return np.exp(x / 5)\n",
    "\n",
    "# (y, z)\n",
    "def scalar(y, z):\n",
    "    return quadrature(lambda x: y(x) * z(x), a, b)[0]\n",
    "\n",
    "\n",
    "def d(f):\n",
    "    eps = 1e-10\n",
    "    return lambda x: (f(x + eps) - f(x - eps)) / (2 * eps)\n",
    "\n",
    "\n",
    "def d2(f):\n",
    "    eps = 1e-5\n",
    "    return lambda x: (f(x - eps) - 2.0 * f(x) + f(x+eps)) / eps**2\n",
    "\n",
    "# [y, z]\n",
    "def integrate(y, z):\n",
    "    def fun(x):\n",
    "        return p(x) * d(y)(x) * d(z)(x) + q(x) * y(x) * z(x)\n",
    "\n",
    "    Ql = a1 / a2 * p(a) * y(a) * z(a)\n",
    "    Qr = b1 / b2 * p(b) * y(b) * z(b)\n",
    "\n",
    "    return quadrature(fun, a, b)[0] + Ql + Qr"
   ],
   "metadata": {
    "collapsed": false,
    "pycharm": {
     "name": "#%%\n"
    }
   }
  },
  {
   "cell_type": "markdown",
   "source": [
    "Метод Ритца"
   ],
   "metadata": {
    "collapsed": false,
    "pycharm": {
     "name": "#%% md\n"
    }
   }
  },
  {
   "cell_type": "code",
   "execution_count": 124,
   "outputs": [
    {
     "name": "stderr",
     "output_type": "stream",
     "text": [
      "/Users/eldarst/PycharmProjects/vychPrak2/venv/lib/python3.8/site-packages/scipy/integrate/_quadrature.py:277: AccuracyWarning: maxiter (50) exceeded. Latest difference = 6.189866e-08\n",
      "  warnings.warn(\n",
      "/Users/eldarst/PycharmProjects/vychPrak2/venv/lib/python3.8/site-packages/scipy/integrate/_quadrature.py:277: AccuracyWarning: maxiter (50) exceeded. Latest difference = 1.123343e-06\n",
      "  warnings.warn(\n",
      "/Users/eldarst/PycharmProjects/vychPrak2/venv/lib/python3.8/site-packages/scipy/integrate/_quadrature.py:277: AccuracyWarning: maxiter (50) exceeded. Latest difference = 9.857345e-07\n",
      "  warnings.warn(\n",
      "/Users/eldarst/PycharmProjects/vychPrak2/venv/lib/python3.8/site-packages/scipy/integrate/_quadrature.py:277: AccuracyWarning: maxiter (50) exceeded. Latest difference = 4.447471e-06\n",
      "  warnings.warn(\n",
      "/Users/eldarst/PycharmProjects/vychPrak2/venv/lib/python3.8/site-packages/scipy/integrate/_quadrature.py:277: AccuracyWarning: maxiter (50) exceeded. Latest difference = 1.241856e-05\n",
      "  warnings.warn(\n",
      "/Users/eldarst/PycharmProjects/vychPrak2/venv/lib/python3.8/site-packages/scipy/integrate/_quadrature.py:277: AccuracyWarning: maxiter (50) exceeded. Latest difference = 1.762705e-05\n",
      "  warnings.warn(\n"
     ]
    }
   ],
   "source": [
    "def w(x, k):\n",
    "    return np.sqrt((2 * k - 1) / 2) * jacobi(n=k - 1, alpha=0, beta=0)(x)\n",
    "\n",
    "\n",
    "def w_k(k):\n",
    "    return lambda x: w(x, k)\n",
    "\n",
    "\n",
    "G = np.zeros((n, n))\n",
    "G_L = np.zeros((n, n))\n",
    "for i in range(n):\n",
    "    for j in range(n):\n",
    "        G[i, j] = scalar(w_k(i + 1), w_k(j + 1))\n",
    "        G_L[i, j] = integrate(w_k(i + 1), w_k(j + 1))\n",
    "\n",
    "lambdas, с_rit = np.linalg.eig(G_L)\n",
    "lambdas, с_rit = zip(*sorted(zip(lambdas, с_rit)))\n"
   ],
   "metadata": {
    "collapsed": false,
    "pycharm": {
     "name": "#%%\n"
    }
   }
  },
  {
   "cell_type": "markdown",
   "source": [
    "Оценка собственных чисел"
   ],
   "metadata": {
    "collapsed": false,
    "pycharm": {
     "name": "#%% md\n"
    }
   }
  },
  {
   "cell_type": "code",
   "execution_count": 125,
   "outputs": [],
   "source": [
    "\n",
    "x = np.linspace(-1, 1, 1000)\n",
    "p_max = max(map(p, x))\n",
    "p_min = min(map(p, x))\n",
    "q_max = max(map(q, x))\n",
    "q_min = min(map(q, x))\n",
    "\n",
    "nu1 = 0.760936\n",
    "nu2 = 1.9300737\n",
    "\n",
    "l_1_min = nu1**2 * p_min + q_min\n",
    "l_1_max = nu1**2 * p_max + q_max\n",
    "l_2_min = nu2**2 * p_min + q_min\n",
    "l_2_max = nu2**2 * p_max + q_max\n",
    "\n",
    "\n",
    "def y(nu):\n",
    "    C = (b2 * nu * np.sin(nu) - b1 * np.cos(nu)) / (b1 * np.sin(nu) + b2 * nu * np.cos(nu))\n",
    "    f = lambda x: np.cos(nu * x) + C * np.sin(nu * x)\n",
    "    return lambda x: f(x) / np.sqrt(scalar(f, f))\n",
    "\n",
    "\n",
    "norm_eig_f_1 = y(nu1)\n",
    "norm_eig_f_2 = y(nu2)\n",
    "\n",
    "data={' ':['min', 'max'],'оценка lambda_1;': [l_1_min, l_1_max],\n",
    "'невязка lambda_1;': [l_1_min - lambdas[0], l_1_max - lambdas[0]],\n",
    "'оценка lambda_2;': [l_2_min , l_2_max],\n",
    "'невязка lambda_2;': [l_2_min - lambdas[1] , l_2_max - lambdas[1]]}\n",
    "\n",
    "lambd_1 = integrate(norm_eig_f_1, norm_eig_f_1)\n",
    "lambd_2 = integrate(norm_eig_f_2, norm_eig_f_2)"
   ],
   "metadata": {
    "collapsed": false,
    "pycharm": {
     "name": "#%%\n"
    }
   }
  },
  {
   "cell_type": "markdown",
   "source": [
    "Метод обратных итераций"
   ],
   "metadata": {
    "collapsed": false,
    "pycharm": {
     "name": "#%% md\n"
    }
   }
  },
  {
   "cell_type": "code",
   "execution_count": 126,
   "outputs": [
    {
     "name": "stderr",
     "output_type": "stream",
     "text": [
      "/var/folders/25/hkg7hrfn7130z9vkbc1z1h580000gn/T/ipykernel_4634/1152629534.py:27: FutureWarning: The frame.append method is deprecated and will be removed from pandas in a future version. Use pandas.concat instead.\n",
      "  table = table.append(row, ignore_index=True)\n",
      "/var/folders/25/hkg7hrfn7130z9vkbc1z1h580000gn/T/ipykernel_4634/1152629534.py:27: FutureWarning: The frame.append method is deprecated and will be removed from pandas in a future version. Use pandas.concat instead.\n",
      "  table = table.append(row, ignore_index=True)\n",
      "/var/folders/25/hkg7hrfn7130z9vkbc1z1h580000gn/T/ipykernel_4634/1152629534.py:27: FutureWarning: The frame.append method is deprecated and will be removed from pandas in a future version. Use pandas.concat instead.\n",
      "  table = table.append(row, ignore_index=True)\n",
      "/var/folders/25/hkg7hrfn7130z9vkbc1z1h580000gn/T/ipykernel_4634/1152629534.py:27: FutureWarning: The frame.append method is deprecated and will be removed from pandas in a future version. Use pandas.concat instead.\n",
      "  table = table.append(row, ignore_index=True)\n",
      "/var/folders/25/hkg7hrfn7130z9vkbc1z1h580000gn/T/ipykernel_4634/1152629534.py:27: FutureWarning: The frame.append method is deprecated and will be removed from pandas in a future version. Use pandas.concat instead.\n",
      "  table = table.append(row, ignore_index=True)\n"
     ]
    }
   ],
   "source": [
    "columns = ['n', 'lambda(n)', 'lambda_diff', 'L*y-lambda*y']\n",
    "table = pd.DataFrame(columns=columns)\n",
    "lamb1_ex = lambdas[0]\n",
    "\n",
    "for k in range(3, n+1):\n",
    "    G_L_k = np.linalg.inv(G_L[:k,:k])\n",
    "    G_k = G[:k, :k]\n",
    "    G_res = np.dot(G_L_k, G_k)\n",
    "    z0 = np.ones((k, 1))\n",
    "    accuracy = 10\n",
    "    for i in range(accuracy):\n",
    "        z1 = np.dot(G_res, z0)\n",
    "        lambMax = z1[0] / z0[0]\n",
    "        z0= z1\n",
    "        # z1 = np.dot(G_res, z0)\n",
    "        # lambMax = np.linalg.norm(z1, 2) / np.linalg.norm(z0, 2)\n",
    "        # z1 = z1 / np.linalg.norm(z1, 2)\n",
    "        # z0= z1\n",
    "    lambMin = 1.0/lambMax\n",
    "    _f = lambda x: sum([z0[j] * w(x, j+1) for j in range(0, k)])\n",
    "    y=_f\n",
    "    right = lambda x: lambMin * y(x)\n",
    "    left = lambda x: -(d(p)(x) * d(y)(x) + p(x) * d2(y)(x)) + q(x)*y(x)\n",
    "    diff = lambda x: left(x) - right(x)\n",
    "\n",
    "    row = {'n': k, 'lambda(n)': lambMin, 'lambda_diff': lambMin - lamb1_ex, 'L*y-lambda*y': right(0) - left(0)}\n",
    "    table = table.append(row, ignore_index=True)"
   ],
   "metadata": {
    "collapsed": false,
    "pycharm": {
     "name": "#%%\n"
    }
   }
  },
  {
   "cell_type": "markdown",
   "source": [
    "Оценки на собственные числа"
   ],
   "metadata": {
    "collapsed": false,
    "pycharm": {
     "name": "#%% md\n"
    }
   }
  },
  {
   "cell_type": "code",
   "execution_count": 127,
   "outputs": [
    {
     "data": {
      "text/plain": "        оценка lambda_1;  невязка lambda_1;  оценка lambda_2;  \\\n0  min          1.066884          -0.232029          2.415238   \n1  max          1.568817           0.269904          3.456513   \n\n   невязка lambda_2;  \n0          -0.472708  \n1           0.568567  ",
      "text/html": "<div>\n<style scoped>\n    .dataframe tbody tr th:only-of-type {\n        vertical-align: middle;\n    }\n\n    .dataframe tbody tr th {\n        vertical-align: top;\n    }\n\n    .dataframe thead th {\n        text-align: right;\n    }\n</style>\n<table border=\"1\" class=\"dataframe\">\n  <thead>\n    <tr style=\"text-align: right;\">\n      <th></th>\n      <th></th>\n      <th>оценка lambda_1;</th>\n      <th>невязка lambda_1;</th>\n      <th>оценка lambda_2;</th>\n      <th>невязка lambda_2;</th>\n    </tr>\n  </thead>\n  <tbody>\n    <tr>\n      <th>0</th>\n      <td>min</td>\n      <td>1.066884</td>\n      <td>-0.232029</td>\n      <td>2.415238</td>\n      <td>-0.472708</td>\n    </tr>\n    <tr>\n      <th>1</th>\n      <td>max</td>\n      <td>1.568817</td>\n      <td>0.269904</td>\n      <td>3.456513</td>\n      <td>0.568567</td>\n    </tr>\n  </tbody>\n</table>\n</div>"
     },
     "execution_count": 127,
     "metadata": {},
     "output_type": "execute_result"
    }
   ],
   "source": [
    "pd.DataFrame(data)"
   ],
   "metadata": {
    "collapsed": false,
    "pycharm": {
     "name": "#%%\n"
    }
   }
  },
  {
   "cell_type": "markdown",
   "source": [
    "Приближения"
   ],
   "metadata": {
    "collapsed": false,
    "pycharm": {
     "name": "#%% md\n"
    }
   }
  },
  {
   "cell_type": "code",
   "execution_count": 128,
   "outputs": [
    {
     "data": {
      "text/plain": "1.3005509434554205"
     },
     "execution_count": 128,
     "metadata": {},
     "output_type": "execute_result"
    }
   ],
   "source": [
    "lambd_1"
   ],
   "metadata": {
    "collapsed": false,
    "pycharm": {
     "name": "#%%\n"
    }
   }
  },
  {
   "cell_type": "code",
   "execution_count": 129,
   "outputs": [
    {
     "data": {
      "text/plain": "2.89091745783873"
     },
     "execution_count": 129,
     "metadata": {},
     "output_type": "execute_result"
    }
   ],
   "source": [
    "lambd_2"
   ],
   "metadata": {
    "collapsed": false,
    "pycharm": {
     "name": "#%%\n"
    }
   }
  },
  {
   "cell_type": "markdown",
   "source": [
    "Точные значения определенные методом Ритца"
   ],
   "metadata": {
    "collapsed": false,
    "pycharm": {
     "name": "#%% md\n"
    }
   }
  },
  {
   "cell_type": "code",
   "execution_count": 130,
   "outputs": [
    {
     "data": {
      "text/plain": "1.2989128981716673"
     },
     "execution_count": 130,
     "metadata": {},
     "output_type": "execute_result"
    }
   ],
   "source": [
    "lambdas[0]"
   ],
   "metadata": {
    "collapsed": false,
    "pycharm": {
     "name": "#%%\n"
    }
   }
  },
  {
   "cell_type": "code",
   "execution_count": 131,
   "outputs": [
    {
     "data": {
      "text/plain": "2.88794655749137"
     },
     "execution_count": 131,
     "metadata": {},
     "output_type": "execute_result"
    }
   ],
   "source": [
    "lambdas[1]"
   ],
   "metadata": {
    "collapsed": false,
    "pycharm": {
     "name": "#%%\n"
    }
   }
  },
  {
   "cell_type": "markdown",
   "source": [
    "Метод обратных итераций"
   ],
   "metadata": {
    "collapsed": false,
    "pycharm": {
     "name": "#%% md\n"
    }
   }
  },
  {
   "cell_type": "code",
   "execution_count": 132,
   "outputs": [
    {
     "data": {
      "text/plain": "   n lambda(n) lambda_diff              L*y-lambda*y\n0  3  1.299548    0.000635    [0.017980589268116298]\n1  4  1.299032    0.000119    [0.021109961472969507]\n2  5  1.298915    0.000002  [0.00036750061827239833]\n3  6  1.298913         0.0   [0.0007074592574136673]\n4  7  1.298913         0.0   [9.096056856616741e-07]",
      "text/html": "<div>\n<style scoped>\n    .dataframe tbody tr th:only-of-type {\n        vertical-align: middle;\n    }\n\n    .dataframe tbody tr th {\n        vertical-align: top;\n    }\n\n    .dataframe thead th {\n        text-align: right;\n    }\n</style>\n<table border=\"1\" class=\"dataframe\">\n  <thead>\n    <tr style=\"text-align: right;\">\n      <th></th>\n      <th>n</th>\n      <th>lambda(n)</th>\n      <th>lambda_diff</th>\n      <th>L*y-lambda*y</th>\n    </tr>\n  </thead>\n  <tbody>\n    <tr>\n      <th>0</th>\n      <td>3</td>\n      <td>1.299548</td>\n      <td>0.000635</td>\n      <td>[0.017980589268116298]</td>\n    </tr>\n    <tr>\n      <th>1</th>\n      <td>4</td>\n      <td>1.299032</td>\n      <td>0.000119</td>\n      <td>[0.021109961472969507]</td>\n    </tr>\n    <tr>\n      <th>2</th>\n      <td>5</td>\n      <td>1.298915</td>\n      <td>0.000002</td>\n      <td>[0.00036750061827239833]</td>\n    </tr>\n    <tr>\n      <th>3</th>\n      <td>6</td>\n      <td>1.298913</td>\n      <td>0.0</td>\n      <td>[0.0007074592574136673]</td>\n    </tr>\n    <tr>\n      <th>4</th>\n      <td>7</td>\n      <td>1.298913</td>\n      <td>0.0</td>\n      <td>[9.096056856616741e-07]</td>\n    </tr>\n  </tbody>\n</table>\n</div>"
     },
     "execution_count": 132,
     "metadata": {},
     "output_type": "execute_result"
    }
   ],
   "source": [
    "table"
   ],
   "metadata": {
    "collapsed": false,
    "pycharm": {
     "name": "#%%\n"
    }
   }
  }
 ],
 "metadata": {
  "kernelspec": {
   "display_name": "Python 3",
   "language": "python",
   "name": "python3"
  },
  "language_info": {
   "codemirror_mode": {
    "name": "ipython",
    "version": 2
   },
   "file_extension": ".py",
   "mimetype": "text/x-python",
   "name": "python",
   "nbconvert_exporter": "python",
   "pygments_lexer": "ipython2",
   "version": "2.7.6"
  }
 },
 "nbformat": 4,
 "nbformat_minor": 0
}