{
 "cells": [
  {
   "cell_type": "code",
   "execution_count": 67,
   "metadata": {
    "collapsed": true,
    "pycharm": {
     "name": "#%%\n"
    }
   },
   "outputs": [],
   "source": [
    "import numpy as np\n",
    "import pandas as pd\n",
    "from scipy import integrate"
   ]
  },
  {
   "cell_type": "code",
   "execution_count": 68,
   "outputs": [],
   "source": [
    "def phi(x):\n",
    "    return np.sin(3 * np.pi * x)\n",
    "\n",
    "def psi(x, p):\n",
    "    return np.sqrt(2) * np.sin(p* np.pi * x)\n",
    "\n",
    "\n",
    "def create_table(w_uf, N, M):\n",
    "    x_arr = np.linspace(0, 1, N + 1)\n",
    "    t_arr = np.linspace(0, 0.1, M + 1)\n",
    "    columns = []\n",
    "    for x in x_arr:\n",
    "        columns.append(\"x={r}\".format(r=x))\n",
    "    grid_table = pd.DataFrame(data=w_uf, index=t_arr, columns=columns)\n",
    "    grid_table.columns.name = \"t \"\n",
    "    return grid_table\n",
    "\n",
    "\n",
    "def error(u, uf, N, M):\n",
    "    err = []\n",
    "    for k in range (M + 1):\n",
    "        for i in range (N + 1):\n",
    "            err.append(abs(u[k][i] - uf[k][i]))\n",
    "    return max(err)\n",
    "\n",
    "N = 5\n",
    "M = 5\n",
    "h = 1.0 / N\n",
    "tau = 0.1 / M\n",
    "\n",
    "x_arr = np.linspace(0, 1, 6)\n",
    "t_arr = np.linspace(0, 0.1, 6)\n",
    "P = 20"
   ],
   "metadata": {
    "collapsed": false,
    "pycharm": {
     "name": "#%%\n"
    }
   }
  },
  {
   "cell_type": "code",
   "execution_count": 69,
   "outputs": [],
   "source": [
    "def Fourier_solve(cp, P, x, t):\n",
    "    res = 0\n",
    "    for p in range(P - 1):\n",
    "        res += cp[p] * np.exp(-np.pi ** 2 * (p + 1) ** 2 * t) * psi(x, p + 1)\n",
    "    return res"
   ],
   "metadata": {
    "collapsed": false,
    "pycharm": {
     "name": "#%%\n"
    }
   }
  },
  {
   "cell_type": "markdown",
   "source": [
    "Значения точного uf решения с использованием ряда Фурье."
   ],
   "metadata": {
    "collapsed": false,
    "pycharm": {
     "name": "#%% md\n"
    }
   }
  },
  {
   "cell_type": "code",
   "execution_count": 70,
   "outputs": [
    {
     "data": {
      "text/plain": "t     x=0.0     x=0.2     x=0.4  x=0.6000000000000001     x=0.8         x=1.0\n0.00    0.0  0.951057 -0.587785             -0.587785  0.951057  3.673940e-16\n0.02    0.0  0.160942 -0.099468             -0.099468  0.160942  6.217209e-17\n0.04    0.0  0.027235 -0.016832             -0.016832  0.027235  1.052104e-17\n0.06    0.0  0.004609 -0.002848             -0.002848  0.004609  1.780419e-18\n0.08    0.0  0.000780 -0.000482             -0.000482  0.000780  3.012905e-19\n0.10    0.0  0.000132 -0.000082             -0.000082  0.000132  5.098575e-20",
      "text/html": "<div>\n<style scoped>\n    .dataframe tbody tr th:only-of-type {\n        vertical-align: middle;\n    }\n\n    .dataframe tbody tr th {\n        vertical-align: top;\n    }\n\n    .dataframe thead th {\n        text-align: right;\n    }\n</style>\n<table border=\"1\" class=\"dataframe\">\n  <thead>\n    <tr style=\"text-align: right;\">\n      <th>t</th>\n      <th>x=0.0</th>\n      <th>x=0.2</th>\n      <th>x=0.4</th>\n      <th>x=0.6000000000000001</th>\n      <th>x=0.8</th>\n      <th>x=1.0</th>\n    </tr>\n  </thead>\n  <tbody>\n    <tr>\n      <th>0.00</th>\n      <td>0.0</td>\n      <td>0.951057</td>\n      <td>-0.587785</td>\n      <td>-0.587785</td>\n      <td>0.951057</td>\n      <td>3.673940e-16</td>\n    </tr>\n    <tr>\n      <th>0.02</th>\n      <td>0.0</td>\n      <td>0.160942</td>\n      <td>-0.099468</td>\n      <td>-0.099468</td>\n      <td>0.160942</td>\n      <td>6.217209e-17</td>\n    </tr>\n    <tr>\n      <th>0.04</th>\n      <td>0.0</td>\n      <td>0.027235</td>\n      <td>-0.016832</td>\n      <td>-0.016832</td>\n      <td>0.027235</td>\n      <td>1.052104e-17</td>\n    </tr>\n    <tr>\n      <th>0.06</th>\n      <td>0.0</td>\n      <td>0.004609</td>\n      <td>-0.002848</td>\n      <td>-0.002848</td>\n      <td>0.004609</td>\n      <td>1.780419e-18</td>\n    </tr>\n    <tr>\n      <th>0.08</th>\n      <td>0.0</td>\n      <td>0.000780</td>\n      <td>-0.000482</td>\n      <td>-0.000482</td>\n      <td>0.000780</td>\n      <td>3.012905e-19</td>\n    </tr>\n    <tr>\n      <th>0.10</th>\n      <td>0.0</td>\n      <td>0.000132</td>\n      <td>-0.000082</td>\n      <td>-0.000082</td>\n      <td>0.000132</td>\n      <td>5.098575e-20</td>\n    </tr>\n  </tbody>\n</table>\n</div>"
     },
     "execution_count": 70,
     "metadata": {},
     "output_type": "execute_result"
    }
   ],
   "source": [
    "def uf(N, M):\n",
    "    x_arr = np.linspace(0, 1, N + 1)\n",
    "    t_arr = np.linspace(0, 0.1, M + 1)\n",
    "    cp = np.zeros(P - 1)\n",
    "    for p in range(1, P):\n",
    "        cp[p - 1] = integrate.quad(lambda x: phi(x) * psi(x, p), 0, 1)[0]\n",
    "    np.around(cp, 3)\n",
    "\n",
    "    uf = np.zeros((M + 1, N + 1))\n",
    "    for i in range(M + 1):\n",
    "        for j in range(N + 1):\n",
    "            uf[i][j] = Fourier_solve(cp, P, x_arr[j], t_arr[i])\n",
    "    return uf\n",
    "\n",
    "uf_ = uf(5, 5)\n",
    "uf_table = create_table(uf_, 5, 5)\n",
    "uf_table"
   ],
   "metadata": {
    "collapsed": false,
    "pycharm": {
     "name": "#%%\n"
    }
   }
  },
  {
   "cell_type": "markdown",
   "source": [
    "Значения решения с использованием дискретного ряда Фурье."
   ],
   "metadata": {
    "collapsed": false,
    "pycharm": {
     "name": "#%% md\n"
    }
   }
  },
  {
   "cell_type": "code",
   "execution_count": 71,
   "outputs": [
    {
     "data": {
      "text/plain": "t     x=0.0     x=0.2     x=0.4  x=0.6000000000000001     x=0.8         x=1.0\n0.00    0.0  0.951057 -0.587785             -0.587785  0.951057  3.673940e-16\n0.02    0.0  0.160942 -0.099468             -0.099468  0.160942  6.217209e-17\n0.04    0.0  0.027235 -0.016832             -0.016832  0.027235  1.052104e-17\n0.06    0.0  0.004609 -0.002848             -0.002848  0.004609  1.780419e-18\n0.08    0.0  0.000780 -0.000482             -0.000482  0.000780  3.012905e-19\n0.10    0.0  0.000132 -0.000082             -0.000082  0.000132  5.098575e-20",
      "text/html": "<div>\n<style scoped>\n    .dataframe tbody tr th:only-of-type {\n        vertical-align: middle;\n    }\n\n    .dataframe tbody tr th {\n        vertical-align: top;\n    }\n\n    .dataframe thead th {\n        text-align: right;\n    }\n</style>\n<table border=\"1\" class=\"dataframe\">\n  <thead>\n    <tr style=\"text-align: right;\">\n      <th>t</th>\n      <th>x=0.0</th>\n      <th>x=0.2</th>\n      <th>x=0.4</th>\n      <th>x=0.6000000000000001</th>\n      <th>x=0.8</th>\n      <th>x=1.0</th>\n    </tr>\n  </thead>\n  <tbody>\n    <tr>\n      <th>0.00</th>\n      <td>0.0</td>\n      <td>0.951057</td>\n      <td>-0.587785</td>\n      <td>-0.587785</td>\n      <td>0.951057</td>\n      <td>3.673940e-16</td>\n    </tr>\n    <tr>\n      <th>0.02</th>\n      <td>0.0</td>\n      <td>0.160942</td>\n      <td>-0.099468</td>\n      <td>-0.099468</td>\n      <td>0.160942</td>\n      <td>6.217209e-17</td>\n    </tr>\n    <tr>\n      <th>0.04</th>\n      <td>0.0</td>\n      <td>0.027235</td>\n      <td>-0.016832</td>\n      <td>-0.016832</td>\n      <td>0.027235</td>\n      <td>1.052104e-17</td>\n    </tr>\n    <tr>\n      <th>0.06</th>\n      <td>0.0</td>\n      <td>0.004609</td>\n      <td>-0.002848</td>\n      <td>-0.002848</td>\n      <td>0.004609</td>\n      <td>1.780419e-18</td>\n    </tr>\n    <tr>\n      <th>0.08</th>\n      <td>0.0</td>\n      <td>0.000780</td>\n      <td>-0.000482</td>\n      <td>-0.000482</td>\n      <td>0.000780</td>\n      <td>3.012905e-19</td>\n    </tr>\n    <tr>\n      <th>0.10</th>\n      <td>0.0</td>\n      <td>0.000132</td>\n      <td>-0.000082</td>\n      <td>-0.000082</td>\n      <td>0.000132</td>\n      <td>5.098575e-20</td>\n    </tr>\n  </tbody>\n</table>\n</div>"
     },
     "execution_count": 71,
     "metadata": {},
     "output_type": "execute_result"
    }
   ],
   "source": [
    "def d_uf(N_):\n",
    "    h = 1 / N_\n",
    "    cp_duf = np.zeros(N_ - 1)\n",
    "    for p in range(1, N_):\n",
    "        cp_duf[p - 1] = h * sum([phi(i * h) * psi(i * h, p) for i in range(1, N_)])\n",
    "\n",
    "    duf = np.zeros((M + 1, N + 1))\n",
    "    for i in range(M + 1):\n",
    "        for j in range(N + 1):\n",
    "            duf[i][j] = Fourier_solve(cp_duf, N, x_arr[j], t_arr[i])\n",
    "    return duf\n",
    "\n",
    "duf = d_uf(5)\n",
    "duf_table = create_table(duf, 5, 5)\n",
    "duf_table"
   ],
   "metadata": {
    "collapsed": false,
    "pycharm": {
     "name": "#%%\n"
    }
   }
  },
  {
   "cell_type": "code",
   "execution_count": 72,
   "outputs": [
    {
     "data": {
      "text/plain": "1.887379141862766e-15"
     },
     "execution_count": 72,
     "metadata": {},
     "output_type": "execute_result"
    }
   ],
   "source": [
    "error_5 = error(duf, uf_, 5, 5)\n",
    "error_5"
   ],
   "metadata": {
    "collapsed": false,
    "pycharm": {
     "name": "#%%\n"
    }
   }
  },
  {
   "cell_type": "code",
   "execution_count": 73,
   "outputs": [
    {
     "data": {
      "text/plain": "1.6653345369377348e-15"
     },
     "execution_count": 73,
     "metadata": {},
     "output_type": "execute_result"
    }
   ],
   "source": [
    "error_10 = error(d_uf(10), uf(5, 5), 5, 5)\n",
    "error_10"
   ],
   "metadata": {
    "collapsed": false,
    "pycharm": {
     "name": "#%%\n"
    }
   }
  },
  {
   "cell_type": "code",
   "execution_count": 74,
   "outputs": [
    {
     "data": {
      "text/plain": "1.3322676295501878e-15"
     },
     "execution_count": 74,
     "metadata": {},
     "output_type": "execute_result"
    }
   ],
   "source": [
    "error_20 = error(d_uf(20), uf(5, 5), 5, 5)\n",
    "error_20"
   ],
   "metadata": {
    "collapsed": false,
    "pycharm": {
     "name": "#%%\n"
    }
   }
  },
  {
   "cell_type": "markdown",
   "source": [
    "Значения сеточного решения с использованием ДРФ при различных параметрах sigma"
   ],
   "metadata": {
    "collapsed": false,
    "pycharm": {
     "name": "#%% md\n"
    }
   }
  },
  {
   "cell_type": "code",
   "execution_count": 75,
   "outputs": [],
   "source": [
    "def lambdas(param, N, M):\n",
    "    h = 1.0 / N\n",
    "    tau = 0.1 / M\n",
    "    l = []\n",
    "    for p in range(1, N):\n",
    "        tmp1 = 1.0 - (4.0 * (1.0 - param) * tau / h ** 2.0) * np.sin(p * np.pi * h / 2.0) ** 2\n",
    "        tmp2 = 1.0 + (4.0 * param * tau / h ** 2.0) * np.sin(p * np.pi * h / 2.0) ** 2\n",
    "        l.append(tmp1 / tmp2)\n",
    "    return l\n",
    "\n",
    "def grid_Fourier_solve(cp, l, x, t, N, M):\n",
    "    tau = 0.1 / M\n",
    "    k = t / tau\n",
    "    return sum(cp[p] * (l[p] ** k) * psi(x, p + 1) for p in range(N - 1))\n",
    "\n",
    "\n",
    "def grid_param(sigma, N, M):\n",
    "    h = 1.0 / N\n",
    "    x_arr = np.linspace(0, 1, N + 1)\n",
    "    t_arr = np.linspace(0, 0.1, M + 1)\n",
    "    cp_wght = np.zeros(N - 1)\n",
    "    for p in range(1, N):\n",
    "        cp_wght[p - 1] = h * sum([phi(i * h) * psi(i * h, p) for i in range (1, N)])\n",
    "    l = lambdas(sigma, N, M)\n",
    "\n",
    "    w_uf = np.zeros((M + 1, N + 1))\n",
    "    for i in range(M + 1):\n",
    "        for j in range(N + 1):\n",
    "            w_uf[i][j] = grid_Fourier_solve(cp_wght, l, x_arr[j], t_arr[i], N, M)\n",
    "    return w_uf"
   ],
   "metadata": {
    "collapsed": false,
    "pycharm": {
     "name": "#%%\n"
    }
   }
  },
  {
   "cell_type": "code",
   "execution_count": 76,
   "outputs": [
    {
     "name": "stderr",
     "output_type": "stream",
     "text": [
      "/var/folders/25/hkg7hrfn7130z9vkbc1z1h580000gn/T/ipykernel_2365/2801451979.py:14: RuntimeWarning: invalid value encountered in double_scalars\n",
      "  return sum(cp[p] * (l[p] ** k) * psi(x, p + 1) for p in range(N - 1))\n"
     ]
    },
    {
     "data": {
      "text/plain": "(h, t)   (0.2, 0.02)  (0.1, 0.005)  (0.05, 0.00125)  (0.05, 0.005)\nσ = 0       0.454835      0.065878         0.014199      16.004979\nσ = 1/2     0.037656      0.021894         0.006455       0.000864\nσ = 1       0.250946      0.091213         0.025992       0.073879",
      "text/html": "<div>\n<style scoped>\n    .dataframe tbody tr th:only-of-type {\n        vertical-align: middle;\n    }\n\n    .dataframe tbody tr th {\n        vertical-align: top;\n    }\n\n    .dataframe thead th {\n        text-align: right;\n    }\n</style>\n<table border=\"1\" class=\"dataframe\">\n  <thead>\n    <tr style=\"text-align: right;\">\n      <th>(h, t)</th>\n      <th>(0.2, 0.02)</th>\n      <th>(0.1, 0.005)</th>\n      <th>(0.05, 0.00125)</th>\n      <th>(0.05, 0.005)</th>\n    </tr>\n  </thead>\n  <tbody>\n    <tr>\n      <th>σ = 0</th>\n      <td>0.454835</td>\n      <td>0.065878</td>\n      <td>0.014199</td>\n      <td>16.004979</td>\n    </tr>\n    <tr>\n      <th>σ = 1/2</th>\n      <td>0.037656</td>\n      <td>0.021894</td>\n      <td>0.006455</td>\n      <td>0.000864</td>\n    </tr>\n    <tr>\n      <th>σ = 1</th>\n      <td>0.250946</td>\n      <td>0.091213</td>\n      <td>0.025992</td>\n      <td>0.073879</td>\n    </tr>\n  </tbody>\n</table>\n</div>"
     },
     "execution_count": 76,
     "metadata": {},
     "output_type": "execute_result"
    }
   ],
   "source": [
    "N_M = ((5, 5), (10, 20), (20, 80), (20, 20))\n",
    "sigmas = (0, 0.5, 1)\n",
    "result = []\n",
    "for i in range(len(N_M)):\n",
    "    arr_result = []\n",
    "    for j in range(len(sigmas)):\n",
    "        arr_result.append(error(grid_param(sigmas[j], N_M[i][0], N_M[i][1]), uf(N_M[i][0], N_M[i][1]), N_M[i][0], N_M[i][1]))\n",
    "    result.append(arr_result)\n",
    "g_uf_0 = grid_param(0.5, 5, 5)\n",
    "\n",
    "result = np.array(result).transpose()\n",
    "error_grid_table = pd.DataFrame(data = result, index = ['σ = 0', 'σ = 1/2', 'σ = 1'], columns = ['(0.2, 0.02)', '(0.1, 0.005)', '(0.05, 0.00125)','(0.05, 0.005)'])\n",
    "error_grid_table.columns.name = \"(h, t)\"\n",
    "error_grid_table"
   ],
   "metadata": {
    "collapsed": false,
    "pycharm": {
     "name": "#%%\n"
    }
   }
  }
 ],
 "metadata": {
  "kernelspec": {
   "display_name": "Python 3",
   "language": "python",
   "name": "python3"
  },
  "language_info": {
   "codemirror_mode": {
    "name": "ipython",
    "version": 2
   },
   "file_extension": ".py",
   "mimetype": "text/x-python",
   "name": "python",
   "nbconvert_exporter": "python",
   "pygments_lexer": "ipython2",
   "version": "2.7.6"
  }
 },
 "nbformat": 4,
 "nbformat_minor": 0
}