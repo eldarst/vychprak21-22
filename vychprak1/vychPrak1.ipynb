{
 "cells": [
  {
   "cell_type": "code",
   "execution_count": 1,
   "outputs": [],
   "source": [
    "import scipy.integrate\n",
    "import numpy as np\n",
    "import pandas as pd\n",
    "import math\n",
    "from scipy.special import jacobi\n",
    "from scipy.integrate import solve_bvp"
   ],
   "metadata": {
    "collapsed": false,
    "pycharm": {
     "name": "#%%\n"
    }
   }
  },
  {
   "cell_type": "code",
   "execution_count": 2,
   "outputs": [],
   "source": [
    "n = 6\n",
    "p = lambda x: (x - 2.0) / (x + 2.0)\n",
    "q = lambda x: x\n",
    "r = lambda x: (1.0 - math.sin(x))\n",
    "f = lambda x: x ** 2"
   ],
   "metadata": {
    "collapsed": false,
    "pycharm": {
     "name": "#%%\n"
    }
   }
  },
  {
   "cell_type": "code",
   "execution_count": 3,
   "outputs": [],
   "source": [
    "\n",
    "def w(i, x):\n",
    "    return (1.0 - x ** 2.0) * jacobi(n=i - 1, alpha=1, beta=1)(x)\n",
    "\n",
    "\n",
    "def d_w(i, x):\n",
    "    return (-2.0) * i * jacobi(n=i, alpha=0, beta=0)(x)\n",
    "\n",
    "\n",
    "def dd_w(i, x):\n",
    "    return -(i + 1.0) * i * jacobi(n=i - 1, alpha=1, beta=1)(x)\n",
    "\n",
    "\n",
    "def psi_i(i, x):\n",
    "    return jacobi(n=i - 1, alpha=0, beta=0)(x)\n",
    "\n",
    "\n",
    "def psi(i):\n",
    "    return lambda x: jacobi(n=i - 1, alpha=0, beta=0)(x)\n",
    "\n",
    "\n",
    "# (y, z)\n",
    "def scalar(y, z):\n",
    "    result, error = scipy.integrate.quad(lambda x: y(x) * z(x), -1, 1)\n",
    "    return result\n",
    "\n",
    "\n",
    "# (Lw_i, psi_j)\n",
    "def integrate(i, j):\n",
    "    def und_integral(x):\n",
    "        return (p(x) * dd_w(i, x) + q(x) * d_w(i, x) + r(x) * w(i, x)) * psi_i(j, x)\n",
    "\n",
    "    result, error = scipy.integrate.quad(und_integral, -1.0, 1.0)  # integrate(und_integral, -1, 1)\n",
    "    return result\n"
   ],
   "metadata": {
    "collapsed": false,
    "pycharm": {
     "name": "#%%\n"
    }
   }
  },
  {
   "cell_type": "code",
   "execution_count": 4,
   "outputs": [],
   "source": [
    "def moment_method(n):\n",
    "    A = np.zeros((n, n))\n",
    "    for i in range(n):\n",
    "        for j in range(n):\n",
    "            A[i, j] = integrate((j + 1), (i + 1))\n",
    "    b = np.zeros((n, 1))\n",
    "    for i in range(n):\n",
    "        b[i] = scalar(f, psi(i + 1))\n",
    "    condition_number = np.linalg.norm(A) * np.linalg.norm(np.linalg.inv(A))\n",
    "    c = np.linalg.solve(A, b)\n",
    "\n",
    "    def y_n_c(x):\n",
    "        return sum([float(c[i]) * w(i + 1, x) for i in range(n)])\n",
    "\n",
    "    return pd.DataFrame(A), pd.DataFrame(b), pd.DataFrame(c), condition_number, y_n_c(-0.5), y_n_c(0), y_n_c(0.5)\n"
   ],
   "metadata": {
    "collapsed": false,
    "pycharm": {
     "name": "#%%\n"
    }
   }
  },
  {
   "cell_type": "code",
   "execution_count": 5,
   "outputs": [],
   "source": [
    "\n",
    "def eq(x, y):\n",
    "    u, v = y\n",
    "    return np.vstack((v, ((np.sin(x) - 1.0) * u - x * v + x ** 2) * (x + 2.0) / (x - 2.0)))\n",
    "\n",
    "\n",
    "def bc(ya, yb):\n",
    "    return np.array([ya[0], yb[0]])\n",
    "\n",
    "\n",
    "x = np.linspace(-1, 1, 101)\n",
    "y0 = np.zeros((2, x.size))\n",
    "\n",
    "res = solve_bvp(eq, bc, x, y0)"
   ],
   "metadata": {
    "collapsed": false,
    "pycharm": {
     "name": "#%%\n"
    }
   }
  },
  {
   "cell_type": "code",
   "execution_count": 6,
   "outputs": [
    {
     "name": "stderr",
     "output_type": "stream",
     "text": [
      "/var/folders/25/hkg7hrfn7130z9vkbc1z1h580000gn/T/ipykernel_2858/2319785543.py:9: FutureWarning: The frame.append method is deprecated and will be removed from pandas in a future version. Use pandas.concat instead.\n",
      "  df_mm = df_mm.append(row, ignore_index=True)\n",
      "/var/folders/25/hkg7hrfn7130z9vkbc1z1h580000gn/T/ipykernel_2858/2319785543.py:9: FutureWarning: The frame.append method is deprecated and will be removed from pandas in a future version. Use pandas.concat instead.\n",
      "  df_mm = df_mm.append(row, ignore_index=True)\n",
      "/var/folders/25/hkg7hrfn7130z9vkbc1z1h580000gn/T/ipykernel_2858/2319785543.py:9: FutureWarning: The frame.append method is deprecated and will be removed from pandas in a future version. Use pandas.concat instead.\n",
      "  df_mm = df_mm.append(row, ignore_index=True)\n",
      "/var/folders/25/hkg7hrfn7130z9vkbc1z1h580000gn/T/ipykernel_2858/2319785543.py:9: FutureWarning: The frame.append method is deprecated and will be removed from pandas in a future version. Use pandas.concat instead.\n",
      "  df_mm = df_mm.append(row, ignore_index=True)\n",
      "/var/folders/25/hkg7hrfn7130z9vkbc1z1h580000gn/T/ipykernel_2858/2319785543.py:9: FutureWarning: The frame.append method is deprecated and will be removed from pandas in a future version. Use pandas.concat instead.\n",
      "  df_mm = df_mm.append(row, ignore_index=True)\n",
      "/var/folders/25/hkg7hrfn7130z9vkbc1z1h580000gn/T/ipykernel_2858/2319785543.py:9: FutureWarning: The frame.append method is deprecated and will be removed from pandas in a future version. Use pandas.concat instead.\n",
      "  df_mm = df_mm.append(row, ignore_index=True)\n",
      "/var/folders/25/hkg7hrfn7130z9vkbc1z1h580000gn/T/ipykernel_2858/2319785543.py:9: FutureWarning: The frame.append method is deprecated and will be removed from pandas in a future version. Use pandas.concat instead.\n",
      "  df_mm = df_mm.append(row, ignore_index=True)\n",
      "/var/folders/25/hkg7hrfn7130z9vkbc1z1h580000gn/T/ipykernel_2858/2319785543.py:9: FutureWarning: The frame.append method is deprecated and will be removed from pandas in a future version. Use pandas.concat instead.\n",
      "  df_mm = df_mm.append(row, ignore_index=True)\n"
     ]
    }
   ],
   "source": [
    "t_v = [res.sol(-0.5)[0], res.sol(0)[0], res.sol(0.5)[0]]\n",
    "columns = ['n', 'mu(A)', 'y_n(-0.5)', 'y_n(0)', 'y_n(0.5)', 'delta(-0.5)', 'delta(0)', 'delta(0.5)']\n",
    "df_mm = pd.DataFrame(columns=columns)\n",
    "for n in range(3, 11):\n",
    "    t = moment_method(n)\n",
    "    row = {'n': n, 'mu(A)': t[3], 'y_n(-0.5)': t[4], 'y_n(0)': t[5],\n",
    "           'y_n(0.5)': t[6], 'delta(-0.5)': t[4] - t_v[0],\n",
    "           'delta(0)': t[5] - t_v[1], 'delta(0.5)': t[6] - t_v[2]}\n",
    "    df_mm = df_mm.append(row, ignore_index=True)\n",
    "\n",
    "A, b, c, con, y_1, y_2, y_3 = moment_method(6)"
   ],
   "metadata": {
    "collapsed": false,
    "pycharm": {
     "name": "#%%\n"
    }
   }
  },
  {
   "cell_type": "code",
   "execution_count": 7,
   "outputs": [
    {
     "data": {
      "text/plain": "          0          1          2          3          4          5\n0  4.788898  -9.963060  19.450805 -21.099645  33.253984 -31.972727\n1 -1.825937  10.400226 -15.105637  26.231643 -26.500706  39.945111\n2 -0.461059  -4.131253  16.293716 -20.275313  32.896910 -31.844005\n3  0.034185   0.020969  -6.696843  22.207058 -25.422870  39.533442\n4  0.018577  -0.127407   0.635971  -9.308806  28.131265 -30.565341\n5 -0.008259   0.054332  -0.306383   1.294117 -11.941095  34.063009",
      "text/html": "<div>\n<style scoped>\n    .dataframe tbody tr th:only-of-type {\n        vertical-align: middle;\n    }\n\n    .dataframe tbody tr th {\n        vertical-align: top;\n    }\n\n    .dataframe thead th {\n        text-align: right;\n    }\n</style>\n<table border=\"1\" class=\"dataframe\">\n  <thead>\n    <tr style=\"text-align: right;\">\n      <th></th>\n      <th>0</th>\n      <th>1</th>\n      <th>2</th>\n      <th>3</th>\n      <th>4</th>\n      <th>5</th>\n    </tr>\n  </thead>\n  <tbody>\n    <tr>\n      <th>0</th>\n      <td>4.788898</td>\n      <td>-9.963060</td>\n      <td>19.450805</td>\n      <td>-21.099645</td>\n      <td>33.253984</td>\n      <td>-31.972727</td>\n    </tr>\n    <tr>\n      <th>1</th>\n      <td>-1.825937</td>\n      <td>10.400226</td>\n      <td>-15.105637</td>\n      <td>26.231643</td>\n      <td>-26.500706</td>\n      <td>39.945111</td>\n    </tr>\n    <tr>\n      <th>2</th>\n      <td>-0.461059</td>\n      <td>-4.131253</td>\n      <td>16.293716</td>\n      <td>-20.275313</td>\n      <td>32.896910</td>\n      <td>-31.844005</td>\n    </tr>\n    <tr>\n      <th>3</th>\n      <td>0.034185</td>\n      <td>0.020969</td>\n      <td>-6.696843</td>\n      <td>22.207058</td>\n      <td>-25.422870</td>\n      <td>39.533442</td>\n    </tr>\n    <tr>\n      <th>4</th>\n      <td>0.018577</td>\n      <td>-0.127407</td>\n      <td>0.635971</td>\n      <td>-9.308806</td>\n      <td>28.131265</td>\n      <td>-30.565341</td>\n    </tr>\n    <tr>\n      <th>5</th>\n      <td>-0.008259</td>\n      <td>0.054332</td>\n      <td>-0.306383</td>\n      <td>1.294117</td>\n      <td>-11.941095</td>\n      <td>34.063009</td>\n    </tr>\n  </tbody>\n</table>\n</div>"
     },
     "execution_count": 7,
     "metadata": {},
     "output_type": "execute_result"
    }
   ],
   "source": [
    "A"
   ],
   "metadata": {
    "collapsed": false,
    "pycharm": {
     "name": "#%%\n"
    }
   }
  },
  {
   "cell_type": "code",
   "execution_count": 8,
   "outputs": [
    {
     "data": {
      "text/plain": "              0\n0  6.666667e-01\n1 -7.032712e-18\n2  2.666667e-01\n3 -2.544265e-17\n4  7.865218e-17\n5  8.587716e-18",
      "text/html": "<div>\n<style scoped>\n    .dataframe tbody tr th:only-of-type {\n        vertical-align: middle;\n    }\n\n    .dataframe tbody tr th {\n        vertical-align: top;\n    }\n\n    .dataframe thead th {\n        text-align: right;\n    }\n</style>\n<table border=\"1\" class=\"dataframe\">\n  <thead>\n    <tr style=\"text-align: right;\">\n      <th></th>\n      <th>0</th>\n    </tr>\n  </thead>\n  <tbody>\n    <tr>\n      <th>0</th>\n      <td>6.666667e-01</td>\n    </tr>\n    <tr>\n      <th>1</th>\n      <td>-7.032712e-18</td>\n    </tr>\n    <tr>\n      <th>2</th>\n      <td>2.666667e-01</td>\n    </tr>\n    <tr>\n      <th>3</th>\n      <td>-2.544265e-17</td>\n    </tr>\n    <tr>\n      <th>4</th>\n      <td>7.865218e-17</td>\n    </tr>\n    <tr>\n      <th>5</th>\n      <td>8.587716e-18</td>\n    </tr>\n  </tbody>\n</table>\n</div>"
     },
     "execution_count": 8,
     "metadata": {},
     "output_type": "execute_result"
    }
   ],
   "source": [
    "b"
   ],
   "metadata": {
    "collapsed": false,
    "pycharm": {
     "name": "#%%\n"
    }
   }
  },
  {
   "cell_type": "code",
   "execution_count": 9,
   "outputs": [
    {
     "data": {
      "text/plain": "62.26829073599271"
     },
     "execution_count": 9,
     "metadata": {},
     "output_type": "execute_result"
    }
   ],
   "source": [
    "con"
   ],
   "metadata": {
    "collapsed": false,
    "pycharm": {
     "name": "#%%\n"
    }
   }
  },
  {
   "cell_type": "code",
   "execution_count": 10,
   "outputs": [
    {
     "data": {
      "text/plain": "          0\n0  0.105456\n1  0.047124\n2  0.042032\n3  0.016705\n4  0.007089\n5  0.002179",
      "text/html": "<div>\n<style scoped>\n    .dataframe tbody tr th:only-of-type {\n        vertical-align: middle;\n    }\n\n    .dataframe tbody tr th {\n        vertical-align: top;\n    }\n\n    .dataframe thead th {\n        text-align: right;\n    }\n</style>\n<table border=\"1\" class=\"dataframe\">\n  <thead>\n    <tr style=\"text-align: right;\">\n      <th></th>\n      <th>0</th>\n    </tr>\n  </thead>\n  <tbody>\n    <tr>\n      <th>0</th>\n      <td>0.105456</td>\n    </tr>\n    <tr>\n      <th>1</th>\n      <td>0.047124</td>\n    </tr>\n    <tr>\n      <th>2</th>\n      <td>0.042032</td>\n    </tr>\n    <tr>\n      <th>3</th>\n      <td>0.016705</td>\n    </tr>\n    <tr>\n      <th>4</th>\n      <td>0.007089</td>\n    </tr>\n    <tr>\n      <th>5</th>\n      <td>0.002179</td>\n    </tr>\n  </tbody>\n</table>\n</div>"
     },
     "execution_count": 10,
     "metadata": {},
     "output_type": "execute_result"
    }
   ],
   "source": [
    "c"
   ],
   "metadata": {
    "collapsed": false,
    "pycharm": {
     "name": "#%%\n"
    }
   }
  },
  {
   "cell_type": "code",
   "execution_count": 11,
   "outputs": [
    {
     "data": {
      "text/plain": "      n       mu(A) y_n(-0.5)    y_n(0)  y_n(0.5) delta(-0.5)  delta(0)  \\\n0   3.0   15.707689  0.051149  0.116489  0.184131     -0.0032  0.039033   \n1   4.0   26.854492  0.054563  0.069316  0.125218    0.000214  -0.00814   \n2   5.0   43.293878  0.055412  0.075429  0.108855    0.001063 -0.002027   \n3   6.0   62.268291  0.053812  0.078362  0.108301   -0.000537  0.000906   \n4   7.0   85.150096  0.054389  0.077588  0.109557     0.00004  0.000132   \n5   8.0  110.623404   0.05439  0.077344  0.110009    0.000041 -0.000113   \n6   9.0  140.091636  0.054329  0.077443  0.110032    -0.00002 -0.000013   \n7  10.0  172.153254  0.054351  0.077469  0.109994    0.000002  0.000013   \n\n  delta(0.5)  \n0    0.07415  \n1   0.015238  \n2  -0.001125  \n3  -0.001679  \n4  -0.000423  \n5   0.000028  \n6   0.000052  \n7   0.000014  ",
      "text/html": "<div>\n<style scoped>\n    .dataframe tbody tr th:only-of-type {\n        vertical-align: middle;\n    }\n\n    .dataframe tbody tr th {\n        vertical-align: top;\n    }\n\n    .dataframe thead th {\n        text-align: right;\n    }\n</style>\n<table border=\"1\" class=\"dataframe\">\n  <thead>\n    <tr style=\"text-align: right;\">\n      <th></th>\n      <th>n</th>\n      <th>mu(A)</th>\n      <th>y_n(-0.5)</th>\n      <th>y_n(0)</th>\n      <th>y_n(0.5)</th>\n      <th>delta(-0.5)</th>\n      <th>delta(0)</th>\n      <th>delta(0.5)</th>\n    </tr>\n  </thead>\n  <tbody>\n    <tr>\n      <th>0</th>\n      <td>3.0</td>\n      <td>15.707689</td>\n      <td>0.051149</td>\n      <td>0.116489</td>\n      <td>0.184131</td>\n      <td>-0.0032</td>\n      <td>0.039033</td>\n      <td>0.07415</td>\n    </tr>\n    <tr>\n      <th>1</th>\n      <td>4.0</td>\n      <td>26.854492</td>\n      <td>0.054563</td>\n      <td>0.069316</td>\n      <td>0.125218</td>\n      <td>0.000214</td>\n      <td>-0.00814</td>\n      <td>0.015238</td>\n    </tr>\n    <tr>\n      <th>2</th>\n      <td>5.0</td>\n      <td>43.293878</td>\n      <td>0.055412</td>\n      <td>0.075429</td>\n      <td>0.108855</td>\n      <td>0.001063</td>\n      <td>-0.002027</td>\n      <td>-0.001125</td>\n    </tr>\n    <tr>\n      <th>3</th>\n      <td>6.0</td>\n      <td>62.268291</td>\n      <td>0.053812</td>\n      <td>0.078362</td>\n      <td>0.108301</td>\n      <td>-0.000537</td>\n      <td>0.000906</td>\n      <td>-0.001679</td>\n    </tr>\n    <tr>\n      <th>4</th>\n      <td>7.0</td>\n      <td>85.150096</td>\n      <td>0.054389</td>\n      <td>0.077588</td>\n      <td>0.109557</td>\n      <td>0.00004</td>\n      <td>0.000132</td>\n      <td>-0.000423</td>\n    </tr>\n    <tr>\n      <th>5</th>\n      <td>8.0</td>\n      <td>110.623404</td>\n      <td>0.05439</td>\n      <td>0.077344</td>\n      <td>0.110009</td>\n      <td>0.000041</td>\n      <td>-0.000113</td>\n      <td>0.000028</td>\n    </tr>\n    <tr>\n      <th>6</th>\n      <td>9.0</td>\n      <td>140.091636</td>\n      <td>0.054329</td>\n      <td>0.077443</td>\n      <td>0.110032</td>\n      <td>-0.00002</td>\n      <td>-0.000013</td>\n      <td>0.000052</td>\n    </tr>\n    <tr>\n      <th>7</th>\n      <td>10.0</td>\n      <td>172.153254</td>\n      <td>0.054351</td>\n      <td>0.077469</td>\n      <td>0.109994</td>\n      <td>0.000002</td>\n      <td>0.000013</td>\n      <td>0.000014</td>\n    </tr>\n  </tbody>\n</table>\n</div>"
     },
     "execution_count": 11,
     "metadata": {},
     "output_type": "execute_result"
    }
   ],
   "source": [
    "df_mm"
   ],
   "metadata": {
    "collapsed": false,
    "pycharm": {
     "name": "#%%\n"
    }
   }
  },
  {
   "cell_type": "markdown",
   "source": [
    "Метод коллокации"
   ],
   "metadata": {
    "collapsed": false,
    "pycharm": {
     "name": "#%% md\n"
    }
   }
  },
  {
   "cell_type": "code",
   "execution_count": 12,
   "outputs": [],
   "source": [
    "\n",
    "def omega(x, i):\n",
    "    return ((1.0 - x ** 2.0) ** 2.0) * jacobi(n=i - 3, alpha=2, beta=2)(x)\n",
    "\n",
    "\n",
    "def omega_i_x(i, x):\n",
    "    if i == 1:\n",
    "        return  1.0 * x ** 2  - 1.0\n",
    "    elif i == 2:\n",
    "        return 1.0 * x ** 3 - 1.0 * x\n",
    "    else:\n",
    "        return omega(x, i)\n",
    "\n",
    "\n",
    "def d_omega(x, i):\n",
    "    return (-2.0) * (i - 2.0) * (1.0 - x ** 2.0) * jacobi(n=i - 2, alpha=1, beta=1)(x)\n",
    "\n",
    "\n",
    "def d_omega_i_x(i, x):\n",
    "    if i == 1:\n",
    "        return 2.0 * x\n",
    "    elif i == 2:\n",
    "        return 3.0 * x ** 2 - 1.0\n",
    "    else:\n",
    "        return d_omega(x, i)\n",
    "\n",
    "\n",
    "def dd_omega(x, i):\n",
    "    return (4.0) * (i - 2.0) * (i - 1.0) * jacobi(n=i - 1, alpha=0, beta=0)(x)\n",
    "\n",
    "\n",
    "def dd_omega_i_x(i, x):\n",
    "    if i == 1:\n",
    "        return 2.0\n",
    "    elif i == 2:\n",
    "        return 6.0 * x\n",
    "    else:\n",
    "        return dd_omega(x, i)"
   ],
   "metadata": {
    "collapsed": false,
    "pycharm": {
     "name": "#%%\n"
    }
   }
  },
  {
   "cell_type": "code",
   "execution_count": 13,
   "outputs": [],
   "source": [
    "def collocation_method(n):\n",
    "    cheb_roots = [math.cos((2.0 * k - 1.0) / (2.0 * n) * math.pi) for k in range(1, n + 1)]\n",
    "    A_c = np.zeros((n, n))\n",
    "    for i in range(n):\n",
    "        for j in range(n):\n",
    "            A_c[i, j] = p(cheb_roots[i]) * dd_omega_i_x((j + 1), (cheb_roots[i])) + q(cheb_roots[i]) * d_omega_i_x(\n",
    "                (j + 1), (cheb_roots[i])) + r(cheb_roots[i]) * omega_i_x((j + 1), (cheb_roots[i]))\n",
    "    b_c = np.zeros((n, 1))\n",
    "    for i in range(n):\n",
    "        b_c[i] = f(cheb_roots[i])\n",
    "    c_c = np.linalg.solve(A_c, b_c)\n",
    "    condition_number = np.linalg.norm(A_c) * np.linalg.norm(np.linalg.inv(A_c))\n",
    "\n",
    "    def y_n_c(x):\n",
    "        return sum([float(c_c[i]) * omega_i_x(i + 1, x) for i in range(n)])\n",
    "\n",
    "    return pd.DataFrame(A_c), pd.DataFrame(b_c), pd.DataFrame(c_c), condition_number, y_n_c(-0.5), y_n_c(0), y_n_c(0.5)"
   ],
   "metadata": {
    "collapsed": false,
    "pycharm": {
     "name": "#%%\n"
    }
   }
  },
  {
   "cell_type": "code",
   "execution_count": 14,
   "outputs": [
    {
     "name": "stderr",
     "output_type": "stream",
     "text": [
      "/var/folders/25/hkg7hrfn7130z9vkbc1z1h580000gn/T/ipykernel_2858/2252061508.py:7: FutureWarning: The frame.append method is deprecated and will be removed from pandas in a future version. Use pandas.concat instead.\n",
      "  df_cl = df_cl.append(row, ignore_index=True)\n",
      "/var/folders/25/hkg7hrfn7130z9vkbc1z1h580000gn/T/ipykernel_2858/2252061508.py:7: FutureWarning: The frame.append method is deprecated and will be removed from pandas in a future version. Use pandas.concat instead.\n",
      "  df_cl = df_cl.append(row, ignore_index=True)\n",
      "/var/folders/25/hkg7hrfn7130z9vkbc1z1h580000gn/T/ipykernel_2858/2252061508.py:7: FutureWarning: The frame.append method is deprecated and will be removed from pandas in a future version. Use pandas.concat instead.\n",
      "  df_cl = df_cl.append(row, ignore_index=True)\n",
      "/var/folders/25/hkg7hrfn7130z9vkbc1z1h580000gn/T/ipykernel_2858/2252061508.py:7: FutureWarning: The frame.append method is deprecated and will be removed from pandas in a future version. Use pandas.concat instead.\n",
      "  df_cl = df_cl.append(row, ignore_index=True)\n",
      "/var/folders/25/hkg7hrfn7130z9vkbc1z1h580000gn/T/ipykernel_2858/2252061508.py:7: FutureWarning: The frame.append method is deprecated and will be removed from pandas in a future version. Use pandas.concat instead.\n",
      "  df_cl = df_cl.append(row, ignore_index=True)\n",
      "/var/folders/25/hkg7hrfn7130z9vkbc1z1h580000gn/T/ipykernel_2858/2252061508.py:7: FutureWarning: The frame.append method is deprecated and will be removed from pandas in a future version. Use pandas.concat instead.\n",
      "  df_cl = df_cl.append(row, ignore_index=True)\n",
      "/var/folders/25/hkg7hrfn7130z9vkbc1z1h580000gn/T/ipykernel_2858/2252061508.py:7: FutureWarning: The frame.append method is deprecated and will be removed from pandas in a future version. Use pandas.concat instead.\n",
      "  df_cl = df_cl.append(row, ignore_index=True)\n",
      "/var/folders/25/hkg7hrfn7130z9vkbc1z1h580000gn/T/ipykernel_2858/2252061508.py:7: FutureWarning: The frame.append method is deprecated and will be removed from pandas in a future version. Use pandas.concat instead.\n",
      "  df_cl = df_cl.append(row, ignore_index=True)\n"
     ]
    }
   ],
   "source": [
    "df_cl = pd.DataFrame(columns=columns)\n",
    "for n in range(3, 11):\n",
    "    t = collocation_method(n)\n",
    "    row = {'n': n, 'mu(A)': t[3], 'y_n(-0.5)': t[4], 'y_n(0)': t[5],\n",
    "           'y_n(0.5)': t[6], 'delta(-0.5)': t[4] - t_v[0],\n",
    "           'delta(0)': t[5] - t_v[1], 'delta(0.5)': t[6] - t_v[2]}\n",
    "    df_cl = df_cl.append(row, ignore_index=True)\n",
    "\n",
    "\n",
    "A, b, c, con, y_1, y_2, y_3 = collocation_method(6)"
   ],
   "metadata": {
    "collapsed": false,
    "pycharm": {
     "name": "#%%\n"
    }
   }
  },
  {
   "cell_type": "code",
   "execution_count": 15,
   "outputs": [
    {
     "data": {
      "text/plain": "          0          1          2          3          4           5\n0  1.156837  -0.294371  -2.758152  -7.438083 -12.778316  -17.265440\n1 -0.130366  -1.796571  -1.867594   0.621070   8.782026   15.833286\n2 -2.101917  -1.583527   2.861427   7.365118  -4.701754  -21.993588\n3 -3.632415   2.524675   4.989652 -12.068690  -8.562844   36.888798\n4 -4.012491   9.113077  -4.775263  -8.167257  41.110831  -64.978918\n5 -3.992453  15.002971 -20.881786  56.043706 -95.543227  127.481874",
      "text/html": "<div>\n<style scoped>\n    .dataframe tbody tr th:only-of-type {\n        vertical-align: middle;\n    }\n\n    .dataframe tbody tr th {\n        vertical-align: top;\n    }\n\n    .dataframe thead th {\n        text-align: right;\n    }\n</style>\n<table border=\"1\" class=\"dataframe\">\n  <thead>\n    <tr style=\"text-align: right;\">\n      <th></th>\n      <th>0</th>\n      <th>1</th>\n      <th>2</th>\n      <th>3</th>\n      <th>4</th>\n      <th>5</th>\n    </tr>\n  </thead>\n  <tbody>\n    <tr>\n      <th>0</th>\n      <td>1.156837</td>\n      <td>-0.294371</td>\n      <td>-2.758152</td>\n      <td>-7.438083</td>\n      <td>-12.778316</td>\n      <td>-17.265440</td>\n    </tr>\n    <tr>\n      <th>1</th>\n      <td>-0.130366</td>\n      <td>-1.796571</td>\n      <td>-1.867594</td>\n      <td>0.621070</td>\n      <td>8.782026</td>\n      <td>15.833286</td>\n    </tr>\n    <tr>\n      <th>2</th>\n      <td>-2.101917</td>\n      <td>-1.583527</td>\n      <td>2.861427</td>\n      <td>7.365118</td>\n      <td>-4.701754</td>\n      <td>-21.993588</td>\n    </tr>\n    <tr>\n      <th>3</th>\n      <td>-3.632415</td>\n      <td>2.524675</td>\n      <td>4.989652</td>\n      <td>-12.068690</td>\n      <td>-8.562844</td>\n      <td>36.888798</td>\n    </tr>\n    <tr>\n      <th>4</th>\n      <td>-4.012491</td>\n      <td>9.113077</td>\n      <td>-4.775263</td>\n      <td>-8.167257</td>\n      <td>41.110831</td>\n      <td>-64.978918</td>\n    </tr>\n    <tr>\n      <th>5</th>\n      <td>-3.992453</td>\n      <td>15.002971</td>\n      <td>-20.881786</td>\n      <td>56.043706</td>\n      <td>-95.543227</td>\n      <td>127.481874</td>\n    </tr>\n  </tbody>\n</table>\n</div>"
     },
     "execution_count": 15,
     "metadata": {},
     "output_type": "execute_result"
    }
   ],
   "source": [
    "A"
   ],
   "metadata": {
    "collapsed": false,
    "pycharm": {
     "name": "#%%\n"
    }
   }
  },
  {
   "cell_type": "code",
   "execution_count": 16,
   "outputs": [
    {
     "data": {
      "text/plain": "          0\n0  0.933013\n1  0.500000\n2  0.066987\n3  0.066987\n4  0.500000\n5  0.933013",
      "text/html": "<div>\n<style scoped>\n    .dataframe tbody tr th:only-of-type {\n        vertical-align: middle;\n    }\n\n    .dataframe tbody tr th {\n        vertical-align: top;\n    }\n\n    .dataframe thead th {\n        text-align: right;\n    }\n</style>\n<table border=\"1\" class=\"dataframe\">\n  <thead>\n    <tr style=\"text-align: right;\">\n      <th></th>\n      <th>0</th>\n    </tr>\n  </thead>\n  <tbody>\n    <tr>\n      <th>0</th>\n      <td>0.933013</td>\n    </tr>\n    <tr>\n      <th>1</th>\n      <td>0.500000</td>\n    </tr>\n    <tr>\n      <th>2</th>\n      <td>0.066987</td>\n    </tr>\n    <tr>\n      <th>3</th>\n      <td>0.066987</td>\n    </tr>\n    <tr>\n      <th>4</th>\n      <td>0.500000</td>\n    </tr>\n    <tr>\n      <th>5</th>\n      <td>0.933013</td>\n    </tr>\n  </tbody>\n</table>\n</div>"
     },
     "execution_count": 16,
     "metadata": {},
     "output_type": "execute_result"
    }
   ],
   "source": [
    "b"
   ],
   "metadata": {
    "collapsed": false,
    "pycharm": {
     "name": "#%%\n"
    }
   }
  },
  {
   "cell_type": "code",
   "execution_count": 17,
   "outputs": [
    {
     "data": {
      "text/plain": "          0\n0 -0.268442\n1 -0.175170\n2 -0.204621\n3 -0.048192\n4 -0.015297\n5 -0.004269",
      "text/html": "<div>\n<style scoped>\n    .dataframe tbody tr th:only-of-type {\n        vertical-align: middle;\n    }\n\n    .dataframe tbody tr th {\n        vertical-align: top;\n    }\n\n    .dataframe thead th {\n        text-align: right;\n    }\n</style>\n<table border=\"1\" class=\"dataframe\">\n  <thead>\n    <tr style=\"text-align: right;\">\n      <th></th>\n      <th>0</th>\n    </tr>\n  </thead>\n  <tbody>\n    <tr>\n      <th>0</th>\n      <td>-0.268442</td>\n    </tr>\n    <tr>\n      <th>1</th>\n      <td>-0.175170</td>\n    </tr>\n    <tr>\n      <th>2</th>\n      <td>-0.204621</td>\n    </tr>\n    <tr>\n      <th>3</th>\n      <td>-0.048192</td>\n    </tr>\n    <tr>\n      <th>4</th>\n      <td>-0.015297</td>\n    </tr>\n    <tr>\n      <th>5</th>\n      <td>-0.004269</td>\n    </tr>\n  </tbody>\n</table>\n</div>"
     },
     "execution_count": 17,
     "metadata": {},
     "output_type": "execute_result"
    }
   ],
   "source": [
    "c"
   ],
   "metadata": {
    "collapsed": false,
    "pycharm": {
     "name": "#%%\n"
    }
   }
  },
  {
   "cell_type": "code",
   "execution_count": 18,
   "outputs": [
    {
     "data": {
      "text/plain": "97.61246412562758"
     },
     "execution_count": 18,
     "metadata": {},
     "output_type": "execute_result"
    }
   ],
   "source": [
    "con"
   ],
   "metadata": {
    "collapsed": false,
    "pycharm": {
     "name": "#%%\n"
    }
   }
  },
  {
   "cell_type": "code",
   "execution_count": 19,
   "outputs": [
    {
     "data": {
      "text/plain": "      n       mu(A) y_n(-0.5)    y_n(0)  y_n(0.5) delta(-0.5)  delta(0)  \\\n0   3.0   17.349462  0.043976  0.165249   0.29685   -0.010373  0.087792   \n1   4.0   31.876329  0.046045  0.048811  0.121306   -0.008304 -0.028645   \n2   5.0   58.673991  0.056427  0.072268  0.101131    0.002078 -0.005188   \n3   6.0   97.612464  0.053251  0.079118  0.106307   -0.001098  0.001661   \n4   7.0  147.828221  0.054373   0.07762  0.109512    0.000024  0.000164   \n5   8.0  209.117439  0.054433  0.077235  0.110131    0.000084 -0.000221   \n6   9.0  281.694334  0.054314  0.077443  0.110067   -0.000035 -0.000014   \n7  10.0  365.593192  0.054351  0.077479  0.109992    0.000002  0.000022   \n\n  delta(0.5)  \n0   0.186869  \n1   0.011326  \n2  -0.008849  \n3  -0.003674  \n4  -0.000469  \n5   0.000151  \n6   0.000086  \n7   0.000011  ",
      "text/html": "<div>\n<style scoped>\n    .dataframe tbody tr th:only-of-type {\n        vertical-align: middle;\n    }\n\n    .dataframe tbody tr th {\n        vertical-align: top;\n    }\n\n    .dataframe thead th {\n        text-align: right;\n    }\n</style>\n<table border=\"1\" class=\"dataframe\">\n  <thead>\n    <tr style=\"text-align: right;\">\n      <th></th>\n      <th>n</th>\n      <th>mu(A)</th>\n      <th>y_n(-0.5)</th>\n      <th>y_n(0)</th>\n      <th>y_n(0.5)</th>\n      <th>delta(-0.5)</th>\n      <th>delta(0)</th>\n      <th>delta(0.5)</th>\n    </tr>\n  </thead>\n  <tbody>\n    <tr>\n      <th>0</th>\n      <td>3.0</td>\n      <td>17.349462</td>\n      <td>0.043976</td>\n      <td>0.165249</td>\n      <td>0.29685</td>\n      <td>-0.010373</td>\n      <td>0.087792</td>\n      <td>0.186869</td>\n    </tr>\n    <tr>\n      <th>1</th>\n      <td>4.0</td>\n      <td>31.876329</td>\n      <td>0.046045</td>\n      <td>0.048811</td>\n      <td>0.121306</td>\n      <td>-0.008304</td>\n      <td>-0.028645</td>\n      <td>0.011326</td>\n    </tr>\n    <tr>\n      <th>2</th>\n      <td>5.0</td>\n      <td>58.673991</td>\n      <td>0.056427</td>\n      <td>0.072268</td>\n      <td>0.101131</td>\n      <td>0.002078</td>\n      <td>-0.005188</td>\n      <td>-0.008849</td>\n    </tr>\n    <tr>\n      <th>3</th>\n      <td>6.0</td>\n      <td>97.612464</td>\n      <td>0.053251</td>\n      <td>0.079118</td>\n      <td>0.106307</td>\n      <td>-0.001098</td>\n      <td>0.001661</td>\n      <td>-0.003674</td>\n    </tr>\n    <tr>\n      <th>4</th>\n      <td>7.0</td>\n      <td>147.828221</td>\n      <td>0.054373</td>\n      <td>0.07762</td>\n      <td>0.109512</td>\n      <td>0.000024</td>\n      <td>0.000164</td>\n      <td>-0.000469</td>\n    </tr>\n    <tr>\n      <th>5</th>\n      <td>8.0</td>\n      <td>209.117439</td>\n      <td>0.054433</td>\n      <td>0.077235</td>\n      <td>0.110131</td>\n      <td>0.000084</td>\n      <td>-0.000221</td>\n      <td>0.000151</td>\n    </tr>\n    <tr>\n      <th>6</th>\n      <td>9.0</td>\n      <td>281.694334</td>\n      <td>0.054314</td>\n      <td>0.077443</td>\n      <td>0.110067</td>\n      <td>-0.000035</td>\n      <td>-0.000014</td>\n      <td>0.000086</td>\n    </tr>\n    <tr>\n      <th>7</th>\n      <td>10.0</td>\n      <td>365.593192</td>\n      <td>0.054351</td>\n      <td>0.077479</td>\n      <td>0.109992</td>\n      <td>0.000002</td>\n      <td>0.000022</td>\n      <td>0.000011</td>\n    </tr>\n  </tbody>\n</table>\n</div>"
     },
     "execution_count": 19,
     "metadata": {},
     "output_type": "execute_result"
    }
   ],
   "source": [
    "df_cl"
   ],
   "metadata": {
    "collapsed": false,
    "pycharm": {
     "name": "#%%\n"
    }
   }
  }
 ],
 "metadata": {
  "kernelspec": {
   "display_name": "Python 3",
   "language": "python",
   "name": "python3"
  },
  "language_info": {
   "codemirror_mode": {
    "name": "ipython",
    "version": 2
   },
   "file_extension": ".py",
   "mimetype": "text/x-python",
   "name": "python",
   "nbconvert_exporter": "python",
   "pygments_lexer": "ipython2",
   "version": "2.7.6"
  }
 },
 "nbformat": 4,
 "nbformat_minor": 0
}