{
 "cells": [
  {
   "cell_type": "code",
   "execution_count": 225,
   "metadata": {
    "collapsed": true,
    "pycharm": {
     "name": "#%%\n"
    }
   },
   "outputs": [],
   "source": [
    "import matplotlib.pyplot as plt\n",
    "import numpy as np\n",
    "from scipy.integrate import quadrature\n",
    "from math import sinh, factorial"
   ]
  },
  {
   "cell_type": "code",
   "execution_count": 226,
   "outputs": [],
   "source": [
    "def K(x, y):\n",
    "    return sinh(x * y)\n",
    "\n",
    "\n",
    "def f(x):\n",
    "    return 2 - x + x**2\n",
    "\n",
    "def get_values(u):\n",
    "    h = (b - a) / N\n",
    "    values = np.zeros((N + 1, 2))\n",
    "    for k in range(N + 1):\n",
    "        values[k, 0] = a+k*h\n",
    "        values[k, 1] = u(a+k*h)\n",
    "\n",
    "    return values\n",
    "\n",
    "def norm(res1, res2):\n",
    "    return max([abs(res2[i][1] - res1[i][1]) for i in range(N + 1)])\n"
   ],
   "metadata": {
    "collapsed": false,
    "pycharm": {
     "name": "#%%\n"
    }
   }
  },
  {
   "cell_type": "code",
   "execution_count": 227,
   "outputs": [],
   "source": [
    "\n",
    "a, b = 0, 1\n",
    "N = 10\n",
    "\n",
    "gauss_nodes_4n_xk = [-0.8611363116, -0.3399810436, 0.3399810436, 0.8611363116]\n",
    "gauss_nodes_4n_ak = [0.3478548451, 0.6521451549, 0.6521451549, 0.3478548451]\n",
    "gauss_nodes_5n_xk = [-0.9061798459, -0.5384693101, 0, 0.5384693101, 0.9061798459]\n",
    "gauss_nodes_5n_ak = [0.2369268851, 0.4786286705, 0.5688888889, 0.4786286705, 0.2369268851]\n",
    "\n",
    "for i in range(4):\n",
    "    gauss_nodes_4n_xk[i] = (b-a)/2*gauss_nodes_4n_xk[i]+(b+a)/2\n",
    "    gauss_nodes_4n_ak[i] = (b-a)/2*gauss_nodes_4n_ak[i]\n",
    "\n",
    "for i in range(5):\n",
    "    gauss_nodes_5n_xk[i] = (b-a)/2*gauss_nodes_5n_xk[i]+(b+a)/2\n",
    "    gauss_nodes_5n_ak[i] = (b-a)/2*gauss_nodes_5n_ak[i]\n",
    "\n",
    "def solve_MMK(n, gauss_nodes_xk, gauss_nodes_ak):\n",
    "    D = np.zeros((n, n))\n",
    "    g = np.zeros(n)\n",
    "\n",
    "    for i in range(n):\n",
    "        for j in range(n):\n",
    "            D[i][j] = (i == j) + gauss_nodes_ak[j] * K(gauss_nodes_xk[i], gauss_nodes_xk[j])\n",
    "\n",
    "    for i in range(n):\n",
    "        g[i] = f(gauss_nodes_xk[i])\n",
    "\n",
    "    z = np.linalg.solve(D, g)\n",
    "    return z\n",
    "\n",
    "\n",
    "def values(x_vals, u):\n",
    "    return [u(x) for x in x_vals]\n",
    "\n",
    "z_4 = solve_MMK(4, gauss_nodes_4n_xk, gauss_nodes_4n_ak)\n",
    "u_new_4 = lambda x: f(x) - gauss_nodes_4n_ak[0] * K(x, gauss_nodes_4n_xk[0]) * z_4[0] - gauss_nodes_4n_ak[1] * K(x, gauss_nodes_4n_xk[1]) * z_4[1] - gauss_nodes_4n_ak[2] * K(x, gauss_nodes_4n_xk[2]) * z_4[2] - gauss_nodes_4n_ak[3] * K(x, gauss_nodes_4n_xk[3]) * z_4[3]\n",
    "\n",
    "val_4 = get_values(u_new_4)\n",
    "\n",
    "\n",
    "\n",
    "z_5 = solve_MMK(5, gauss_nodes_5n_xk, gauss_nodes_5n_ak)\n",
    "u_new_5 = lambda x: f(x) - gauss_nodes_5n_ak[0] * K(x, gauss_nodes_5n_xk[0]) * z_5[0] - gauss_nodes_5n_ak[1] * K(x, gauss_nodes_5n_xk[1]) * z_5[1] - gauss_nodes_5n_ak[2] * K(x, gauss_nodes_5n_xk[2]) * z_5[2] - gauss_nodes_5n_ak[3] * K(x, gauss_nodes_5n_xk[3]) * z_5[3] - gauss_nodes_5n_ak[4] * K(x, gauss_nodes_5n_xk[4]) * z_5[4]\n",
    "val_5 = get_values(u_new_5)\n",
    "\n",
    "delta = norm(val_5, val_4)\n",
    "\n",
    "x = np.arange(-100, 100, 1)"
   ],
   "metadata": {
    "collapsed": false,
    "pycharm": {
     "name": "#%%\n"
    }
   }
  },
  {
   "cell_type": "code",
   "execution_count": 228,
   "outputs": [
    {
     "data": {
      "text/plain": "array([[0.        , 2.        ],\n       [0.1       , 1.84202271],\n       [0.2       , 1.70372195],\n       [0.3       , 1.58477215],\n       [0.4       , 1.48484342],\n       [0.5       , 1.40359947],\n       [0.6       , 1.3406953 ],\n       [0.7       , 1.29577497],\n       [0.8       , 1.26846921],\n       [0.9       , 1.25839292],\n       [1.        , 1.26514262]])"
     },
     "execution_count": 228,
     "metadata": {},
     "output_type": "execute_result"
    }
   ],
   "source": [
    "val_4"
   ],
   "metadata": {
    "collapsed": false,
    "pycharm": {
     "name": "#%%\n"
    }
   }
  },
  {
   "cell_type": "code",
   "execution_count": 229,
   "outputs": [
    {
     "data": {
      "text/plain": "array([[0.        , 2.        ],\n       [0.1       , 1.84202271],\n       [0.2       , 1.70372195],\n       [0.3       , 1.58477215],\n       [0.4       , 1.48484342],\n       [0.5       , 1.40359947],\n       [0.6       , 1.3406953 ],\n       [0.7       , 1.29577498],\n       [0.8       , 1.26846921],\n       [0.9       , 1.25839292],\n       [1.        , 1.26514263]])"
     },
     "execution_count": 229,
     "metadata": {},
     "output_type": "execute_result"
    }
   ],
   "source": [
    "val_5"
   ],
   "metadata": {
    "collapsed": false,
    "pycharm": {
     "name": "#%%\n"
    }
   }
  },
  {
   "cell_type": "code",
   "execution_count": 230,
   "outputs": [
    {
     "data": {
      "text/plain": "1.0709157782784473e-08"
     },
     "execution_count": 230,
     "metadata": {},
     "output_type": "execute_result"
    }
   ],
   "source": [
    "delta"
   ],
   "metadata": {
    "collapsed": false,
    "pycharm": {
     "name": "#%%\n"
    }
   }
  },
  {
   "cell_type": "code",
   "execution_count": 231,
   "outputs": [],
   "source": [
    "def alpha(k):\n",
    "    return lambda x: x**(2*k + 1)\n",
    "\n",
    "def beta(k):\n",
    "    return lambda y: y**(2*k + 1)/factorial(2*k + 1)\n",
    "\n",
    "def scalar(y, z):\n",
    "    result, error = quadrature(lambda x: y(x) * z(x), a, b)\n",
    "    return result\n",
    "\n",
    "def solve_change(n):\n",
    "    G = np.zeros((n, n))\n",
    "    F = np.zeros((n, 1))\n",
    "\n",
    "    for j in range(n):\n",
    "        for i in range(n):\n",
    "            G[j][i] = (i == j) + scalar(beta(j), alpha(i))\n",
    "\n",
    "    for j in range(n):\n",
    "        F[j] = scalar(beta(j), lambda x: f(x))\n",
    "\n",
    "    A = np.linalg.solve(G, F)\n",
    "\n",
    "    def U(x):\n",
    "        return f(x) - sum([A[i] * alpha(i)(x) for i in range(n)])\n",
    "\n",
    "    return U\n",
    "\n",
    "delta_core = sum([alpha(i)(0.5) * beta(i)(0.5) for i in range(4)]) - K(0.5, 0.5)\n",
    "\n",
    "u_3 = solve_change(5)\n",
    "u_4 = solve_change(6)\n",
    "\n",
    "val_change_3 = get_values(u_3)\n",
    "val_change_4 = get_values(u_4)\n",
    "\n",
    "delta_change = norm(val_change_3, val_change_4)"
   ],
   "metadata": {
    "collapsed": false,
    "pycharm": {
     "name": "#%%\n"
    }
   }
  },
  {
   "cell_type": "code",
   "execution_count": 232,
   "outputs": [
    {
     "data": {
      "text/plain": "-1.0518252935298733e-11"
     },
     "execution_count": 232,
     "metadata": {},
     "output_type": "execute_result"
    }
   ],
   "source": [
    "delta_core"
   ],
   "metadata": {
    "collapsed": false,
    "pycharm": {
     "name": "#%%\n"
    }
   }
  },
  {
   "cell_type": "markdown",
   "source": [
    "K(x, y)"
   ],
   "metadata": {
    "collapsed": false,
    "pycharm": {
     "name": "#%% md\n"
    }
   }
  },
  {
   "cell_type": "code",
   "execution_count": 233,
   "outputs": [
    {
     "data": {
      "text/plain": "array([[0.        , 2.        ],\n       [0.1       , 1.84202271],\n       [0.2       , 1.70372195],\n       [0.3       , 1.58477215],\n       [0.4       , 1.48484342],\n       [0.5       , 1.40359947],\n       [0.6       , 1.3406953 ],\n       [0.7       , 1.29577498],\n       [0.8       , 1.26846921],\n       [0.9       , 1.25839292],\n       [1.        , 1.26514264]])"
     },
     "execution_count": 233,
     "metadata": {},
     "output_type": "execute_result"
    }
   ],
   "source": [
    "val_change_3"
   ],
   "metadata": {
    "collapsed": false,
    "pycharm": {
     "name": "#%%\n"
    }
   }
  },
  {
   "cell_type": "code",
   "execution_count": 234,
   "outputs": [
    {
     "data": {
      "text/plain": "array([[0.        , 2.        ],\n       [0.1       , 1.84202271],\n       [0.2       , 1.70372195],\n       [0.3       , 1.58477215],\n       [0.4       , 1.48484342],\n       [0.5       , 1.40359947],\n       [0.6       , 1.3406953 ],\n       [0.7       , 1.29577498],\n       [0.8       , 1.26846921],\n       [0.9       , 1.25839292],\n       [1.        , 1.26514264]])"
     },
     "execution_count": 234,
     "metadata": {},
     "output_type": "execute_result"
    }
   ],
   "source": [
    "val_change_4"
   ],
   "metadata": {
    "collapsed": false,
    "pycharm": {
     "name": "#%%\n"
    }
   }
  },
  {
   "cell_type": "code",
   "execution_count": 235,
   "outputs": [
    {
     "data": {
      "text/plain": "1.0919567472456038e-09"
     },
     "execution_count": 235,
     "metadata": {},
     "output_type": "execute_result"
    }
   ],
   "source": [
    "delta_change"
   ],
   "metadata": {
    "collapsed": false,
    "pycharm": {
     "name": "#%%\n"
    }
   }
  }
 ],
 "metadata": {
  "kernelspec": {
   "display_name": "Python 3",
   "language": "python",
   "name": "python3"
  },
  "language_info": {
   "codemirror_mode": {
    "name": "ipython",
    "version": 2
   },
   "file_extension": ".py",
   "mimetype": "text/x-python",
   "name": "python",
   "nbconvert_exporter": "python",
   "pygments_lexer": "ipython2",
   "version": "2.7.6"
  }
 },
 "nbformat": 4,
 "nbformat_minor": 0
}